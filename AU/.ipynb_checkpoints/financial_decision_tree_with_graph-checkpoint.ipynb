{
 "cells": [
  {
   "cell_type": "markdown",
   "id": "46c2f0c3",
   "metadata": {},
   "source": [
    "## Aprendizaje por Refuerzo: Análisis y Optimización\n",
    "Este documento implementa un modelo de aprendizaje por refuerzo, combinando análisis supervisado y no supervisado. El reporte estará estructurado en las siguientes secciones:\n",
    "- Evaluación y optimización del modelo.\n",
    "- Enlace al repositorio con el modelo entrenado.\n",
    "- Gráfica personalizada e interpretación de resultados.\n"
   ]
  },
  {
   "cell_type": "markdown",
   "id": "0ee8eae1",
   "metadata": {},
   "source": [
    "### Evaluación y Optimización del Modelo\n",
    "En esta sección, evaluaremos el modelo de aprendizaje por refuerzo utilizando métricas de desempeño como recompensa acumulada, tasa de convergencia, y estabilidad de las políticas aprendidas. Posteriormente, se aplicará técnicas de optimización para mejorar los resultados.\n"
   ]
  },
  {
   "cell_type": "markdown",
   "id": "c0edca7d",
   "metadata": {},
   "source": [
    "### Enlace al Repositorio del Modelo\n",
    "El modelo final será subido a un repositorio de GitHub. El enlace se incluirá aquí una vez completada la implementación y entrenamiento.\n",
    "```markdown\n",
    "[Repositorio del Modelo](URL_DEL_REPOSITORIO)\n",
    "```\n"
   ]
  },
  {
   "cell_type": "markdown",
   "id": "f0bfe98e",
   "metadata": {},
   "source": [
    "### Gráfica Personalizada e Interpretación de Resultados\n",
    "Esta sección incluirá gráficas generadas a partir de los resultados del modelo, como la evolución de recompensas, desempeño por episodio, y análisis de estrategias aprendidas. Se acompañará de una interpretación detallada que explique los hallazgos principales.\n"
   ]
  },
  {
   "cell_type": "code",
   "execution_count": 2,
   "id": "5001e670-e3a2-44ae-87df-3bdfa6074b67",
   "metadata": {},
   "outputs": [],
   "source": [
    "# Importar librerías necesarias\n",
    "import pandas as pd\n",
    "from sklearn.model_selection import train_test_split\n",
    "from sklearn.tree import DecisionTreeClassifier\n",
    "from sklearn.metrics import accuracy_score, classification_report\n",
    "import matplotlib.pyplot as pl\n",
    "from sklearn.tree import plot_tree\n",
    "import joblib"
   ]
  },
  {
   "cell_type": "code",
   "execution_count": 3,
   "id": "5322f271-1d52-470b-bd7f-5d2fc08b8e05",
   "metadata": {},
   "outputs": [
    {
     "data": {
      "text/html": [
       "<div>\n",
       "<style scoped>\n",
       "    .dataframe tbody tr th:only-of-type {\n",
       "        vertical-align: middle;\n",
       "    }\n",
       "\n",
       "    .dataframe tbody tr th {\n",
       "        vertical-align: top;\n",
       "    }\n",
       "\n",
       "    .dataframe thead th {\n",
       "        text-align: right;\n",
       "    }\n",
       "</style>\n",
       "<table border=\"1\" class=\"dataframe\">\n",
       "  <thead>\n",
       "    <tr style=\"text-align: right;\">\n",
       "      <th></th>\n",
       "      <th>Ingresos Totales</th>\n",
       "      <th>Egresos Totales</th>\n",
       "      <th>Balance</th>\n",
       "      <th>Consejo Financiero</th>\n",
       "    </tr>\n",
       "  </thead>\n",
       "  <tbody>\n",
       "    <tr>\n",
       "      <th>0</th>\n",
       "      <td>8270</td>\n",
       "      <td>7741</td>\n",
       "      <td>529</td>\n",
       "      <td>Aumenta el ahorro con los ingresos actuales</td>\n",
       "    </tr>\n",
       "    <tr>\n",
       "      <th>1</th>\n",
       "      <td>1860</td>\n",
       "      <td>1453</td>\n",
       "      <td>407</td>\n",
       "      <td>Aumenta el ahorro con los ingresos actuales</td>\n",
       "    </tr>\n",
       "    <tr>\n",
       "      <th>2</th>\n",
       "      <td>6390</td>\n",
       "      <td>3039</td>\n",
       "      <td>3351</td>\n",
       "      <td>Considera invertir una parte</td>\n",
       "    </tr>\n",
       "    <tr>\n",
       "      <th>3</th>\n",
       "      <td>6191</td>\n",
       "      <td>7556</td>\n",
       "      <td>-1365</td>\n",
       "      <td>Reduce los egresos para ahorrar</td>\n",
       "    </tr>\n",
       "    <tr>\n",
       "      <th>4</th>\n",
       "      <td>6734</td>\n",
       "      <td>2042</td>\n",
       "      <td>4692</td>\n",
       "      <td>Considera invertir una parte</td>\n",
       "    </tr>\n",
       "  </tbody>\n",
       "</table>\n",
       "</div>"
      ],
      "text/plain": [
       "   Ingresos Totales  Egresos Totales  Balance  \\\n",
       "0              8270             7741      529   \n",
       "1              1860             1453      407   \n",
       "2              6390             3039     3351   \n",
       "3              6191             7556    -1365   \n",
       "4              6734             2042     4692   \n",
       "\n",
       "                            Consejo Financiero  \n",
       "0  Aumenta el ahorro con los ingresos actuales  \n",
       "1  Aumenta el ahorro con los ingresos actuales  \n",
       "2                 Considera invertir una parte  \n",
       "3              Reduce los egresos para ahorrar  \n",
       "4                 Considera invertir una parte  "
      ]
     },
     "execution_count": 3,
     "metadata": {},
     "output_type": "execute_result"
    }
   ],
   "source": [
    "data = pd.read_csv(filepath_or_buffer = \"dataset_consejos_financieros_ampliado.csv\", encoding='latin-1')\n",
    "data.head()"
   ]
  },
  {
   "cell_type": "code",
   "execution_count": 4,
   "id": "5b5f29ac-7760-4fa2-9a29-259886c0c67b",
   "metadata": {},
   "outputs": [],
   "source": [
    "# Definir características (X) y variable objetivo (y)\n",
    "X = data[['Ingresos Totales', 'Egresos Totales', 'Balance']]\n",
    "y = data['Consejo Financiero']\n"
   ]
  },
  {
   "cell_type": "code",
   "execution_count": 5,
   "id": "f62714c8-c98f-4e21-a2b2-10dc5f0a2518",
   "metadata": {},
   "outputs": [],
   "source": [
    "from sklearn.model_selection import train_test_split\n",
    "X_train, X_test, y_train, y_test = train_test_split(X, y, test_size=0.3, random_state=42)\n"
   ]
  },
  {
   "cell_type": "code",
   "execution_count": 6,
   "id": "830841fe-dd31-4570-b562-de353233d44f",
   "metadata": {},
   "outputs": [
    {
     "data": {
      "text/html": [
       "<style>#sk-container-id-1 {color: black;}#sk-container-id-1 pre{padding: 0;}#sk-container-id-1 div.sk-toggleable {background-color: white;}#sk-container-id-1 label.sk-toggleable__label {cursor: pointer;display: block;width: 100%;margin-bottom: 0;padding: 0.3em;box-sizing: border-box;text-align: center;}#sk-container-id-1 label.sk-toggleable__label-arrow:before {content: \"▸\";float: left;margin-right: 0.25em;color: #696969;}#sk-container-id-1 label.sk-toggleable__label-arrow:hover:before {color: black;}#sk-container-id-1 div.sk-estimator:hover label.sk-toggleable__label-arrow:before {color: black;}#sk-container-id-1 div.sk-toggleable__content {max-height: 0;max-width: 0;overflow: hidden;text-align: left;background-color: #f0f8ff;}#sk-container-id-1 div.sk-toggleable__content pre {margin: 0.2em;color: black;border-radius: 0.25em;background-color: #f0f8ff;}#sk-container-id-1 input.sk-toggleable__control:checked~div.sk-toggleable__content {max-height: 200px;max-width: 100%;overflow: auto;}#sk-container-id-1 input.sk-toggleable__control:checked~label.sk-toggleable__label-arrow:before {content: \"▾\";}#sk-container-id-1 div.sk-estimator input.sk-toggleable__control:checked~label.sk-toggleable__label {background-color: #d4ebff;}#sk-container-id-1 div.sk-label input.sk-toggleable__control:checked~label.sk-toggleable__label {background-color: #d4ebff;}#sk-container-id-1 input.sk-hidden--visually {border: 0;clip: rect(1px 1px 1px 1px);clip: rect(1px, 1px, 1px, 1px);height: 1px;margin: -1px;overflow: hidden;padding: 0;position: absolute;width: 1px;}#sk-container-id-1 div.sk-estimator {font-family: monospace;background-color: #f0f8ff;border: 1px dotted black;border-radius: 0.25em;box-sizing: border-box;margin-bottom: 0.5em;}#sk-container-id-1 div.sk-estimator:hover {background-color: #d4ebff;}#sk-container-id-1 div.sk-parallel-item::after {content: \"\";width: 100%;border-bottom: 1px solid gray;flex-grow: 1;}#sk-container-id-1 div.sk-label:hover label.sk-toggleable__label {background-color: #d4ebff;}#sk-container-id-1 div.sk-serial::before {content: \"\";position: absolute;border-left: 1px solid gray;box-sizing: border-box;top: 0;bottom: 0;left: 50%;z-index: 0;}#sk-container-id-1 div.sk-serial {display: flex;flex-direction: column;align-items: center;background-color: white;padding-right: 0.2em;padding-left: 0.2em;position: relative;}#sk-container-id-1 div.sk-item {position: relative;z-index: 1;}#sk-container-id-1 div.sk-parallel {display: flex;align-items: stretch;justify-content: center;background-color: white;position: relative;}#sk-container-id-1 div.sk-item::before, #sk-container-id-1 div.sk-parallel-item::before {content: \"\";position: absolute;border-left: 1px solid gray;box-sizing: border-box;top: 0;bottom: 0;left: 50%;z-index: -1;}#sk-container-id-1 div.sk-parallel-item {display: flex;flex-direction: column;z-index: 1;position: relative;background-color: white;}#sk-container-id-1 div.sk-parallel-item:first-child::after {align-self: flex-end;width: 50%;}#sk-container-id-1 div.sk-parallel-item:last-child::after {align-self: flex-start;width: 50%;}#sk-container-id-1 div.sk-parallel-item:only-child::after {width: 0;}#sk-container-id-1 div.sk-dashed-wrapped {border: 1px dashed gray;margin: 0 0.4em 0.5em 0.4em;box-sizing: border-box;padding-bottom: 0.4em;background-color: white;}#sk-container-id-1 div.sk-label label {font-family: monospace;font-weight: bold;display: inline-block;line-height: 1.2em;}#sk-container-id-1 div.sk-label-container {text-align: center;}#sk-container-id-1 div.sk-container {/* jupyter's `normalize.less` sets `[hidden] { display: none; }` but bootstrap.min.css set `[hidden] { display: none !important; }` so we also need the `!important` here to be able to override the default hidden behavior on the sphinx rendered scikit-learn.org. See: https://github.com/scikit-learn/scikit-learn/issues/21755 */display: inline-block !important;position: relative;}#sk-container-id-1 div.sk-text-repr-fallback {display: none;}</style><div id=\"sk-container-id-1\" class=\"sk-top-container\"><div class=\"sk-text-repr-fallback\"><pre>DecisionTreeClassifier(random_state=42)</pre><b>In a Jupyter environment, please rerun this cell to show the HTML representation or trust the notebook. <br />On GitHub, the HTML representation is unable to render, please try loading this page with nbviewer.org.</b></div><div class=\"sk-container\" hidden><div class=\"sk-item\"><div class=\"sk-estimator sk-toggleable\"><input class=\"sk-toggleable__control sk-hidden--visually\" id=\"sk-estimator-id-1\" type=\"checkbox\" checked><label for=\"sk-estimator-id-1\" class=\"sk-toggleable__label sk-toggleable__label-arrow\">DecisionTreeClassifier</label><div class=\"sk-toggleable__content\"><pre>DecisionTreeClassifier(random_state=42)</pre></div></div></div></div></div>"
      ],
      "text/plain": [
       "DecisionTreeClassifier(random_state=42)"
      ]
     },
     "execution_count": 6,
     "metadata": {},
     "output_type": "execute_result"
    }
   ],
   "source": [
    "from sklearn.tree import DecisionTreeClassifier\n",
    "model = DecisionTreeClassifier(random_state=42)\n",
    "model.fit(X_train, y_train)\n"
   ]
  },
  {
   "cell_type": "code",
   "execution_count": 7,
   "id": "86a4317a-f404-407c-96a2-ecfaec60d085",
   "metadata": {},
   "outputs": [
    {
     "name": "stdout",
     "output_type": "stream",
     "text": [
      "Accuracy: 0.9866666666666667\n",
      "\n",
      "Classification Report:\n",
      "                                              precision    recall  f1-score   support\n",
      "\n",
      "Aumenta el ahorro con los ingresos actuales       1.00      1.00      1.00        18\n",
      "               Considera invertir una parte       1.00      1.00      1.00        39\n",
      "            MantÃ©n el buen ritmo de ahorro       1.00      1.00      1.00        30\n",
      "                 Prioriza gastos esenciales       0.87      1.00      0.93        13\n",
      "            Reduce los egresos para ahorrar       1.00      0.96      0.98        50\n",
      "\n",
      "                                   accuracy                           0.99       150\n",
      "                                  macro avg       0.97      0.99      0.98       150\n",
      "                               weighted avg       0.99      0.99      0.99       150\n",
      "\n"
     ]
    }
   ],
   "source": [
    "from sklearn.metrics import accuracy_score, classification_report\n",
    "y_pred = model.predict(X_test)\n",
    "print(\"Accuracy:\", accuracy_score(y_test, y_pred))\n",
    "print(\"\\nClassification Report:\\n\", classification_report(y_test, y_pred))\n"
   ]
  },
  {
   "cell_type": "code",
   "execution_count": 8,
   "id": "18dd6fd7-ff70-4846-a2b8-e02ae5e15c04",
   "metadata": {},
   "outputs": [
    {
     "name": "stdout",
     "output_type": "stream",
     "text": [
      "Recomendación para el ejemplo: MantÃ©n el buen ritmo de ahorro\n"
     ]
    }
   ],
   "source": [
    "# Ejemplo de predicción\n",
    "sample_data = pd.DataFrame([[9000, 8000, 1000]], columns=['Ingresos Totales', 'Egresos Totales', 'Balance'])\n",
    "print(\"Recomendación para el ejemplo:\", model.predict(sample_data)[0])\n"
   ]
  },
  {
   "cell_type": "code",
   "execution_count": 9,
   "id": "262ddce8-47be-409d-9a7f-7ab711562a66",
   "metadata": {},
   "outputs": [
    {
     "data": {
      "text/plain": [
       "['financial_advice_model.pkl']"
      ]
     },
     "execution_count": 9,
     "metadata": {},
     "output_type": "execute_result"
    }
   ],
   "source": [
    "import joblib\n",
    "\n",
    "# Suponiendo que el modelo está en la variable `model`\n",
    "joblib.dump(model, 'financial_advice_model.pkl')\n"
   ]
  },
  {
   "cell_type": "code",
   "execution_count": null,
   "id": "f1785076-0907-4457-904f-f1fcc0ce6f2b",
   "metadata": {},
   "outputs": [],
   "source": []
  },
  {
   "cell_type": "markdown",
   "id": "1f32d8c0",
   "metadata": {},
   "source": [
    "# Modelo de Regresión Lineal"
   ]
  },
  {
   "cell_type": "markdown",
   "id": "50d62daf",
   "metadata": {},
   "source": [
    "## Carga y Visualización del Dataset"
   ]
  },
  {
   "cell_type": "markdown",
   "id": "0f3e9cc3",
   "metadata": {},
   "source": [
    "## Análisis de la Relación Lineal"
   ]
  },
  {
   "cell_type": "markdown",
   "id": "e9cfd615",
   "metadata": {},
   "source": [
    "## Filtrado de Valores Atípicos"
   ]
  },
  {
   "cell_type": "markdown",
   "id": "a766fccc",
   "metadata": {},
   "source": [
    "## Modelo de Regresión Lineal con Pipeline"
   ]
  },
  {
   "cell_type": "markdown",
   "id": "753f3cc0-ad06-42bf-8b66-6a15cc8b5eb0",
   "metadata": {},
   "source": [
    "## Grafica personalizada"
   ]
  },
  {
   "cell_type": "code",
   "execution_count": null,
   "id": "f81508f6",
   "metadata": {},
   "outputs": [],
   "source": [
    "\n",
    "# Visualización del Decision Tree\n",
    "from sklearn.tree import export_text, plot_tree\n",
    "import matplotlib.pyplot as plt\n",
    "\n",
    "# Asegúrate de que el modelo esté entrenado como \"decision_tree\" antes de este paso\n",
    "plt.figure(figsize=(12, 8))\n",
    "plot_tree(decision_tree, filled=True, feature_names=feature_names, class_names=class_names, rounded=True)\n",
    "plt.title(\"Árbol de Decisión\")\n",
    "plt.show()\n"
   ]
  }
 ],
 "metadata": {
  "kernelspec": {
   "display_name": "Python 3 (ipykernel)",
   "language": "python",
   "name": "python3"
  },
  "language_info": {
   "codemirror_mode": {
    "name": "ipython",
    "version": 3
   },
   "file_extension": ".py",
   "mimetype": "text/x-python",
   "name": "python",
   "nbconvert_exporter": "python",
   "pygments_lexer": "ipython3",
   "version": "3.8.0"
  }
 },
 "nbformat": 4,
 "nbformat_minor": 5
}
