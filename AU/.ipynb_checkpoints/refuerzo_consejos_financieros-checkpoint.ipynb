{
 "cells": [
  {
   "cell_type": "markdown",
   "id": "99ac53ca",
   "metadata": {},
   "source": [
    "# Implementación de Aprendizaje por Refuerzo (Combinación Supervisado y No Supervisado)"
   ]
  },
  {
   "cell_type": "markdown",
   "id": "0d4205df",
   "metadata": {},
   "source": [
    "## Introducción\n",
    "Este notebook implementa una estrategia de aprendizaje por refuerzo combinando un modelo supervisado (clasificación con Árbol de Decisión) y un modelo no supervisado (K-Means) para encontrar patrones y refinar las predicciones en un conjunto de datos financiero."
   ]
  },
  {
   "cell_type": "markdown",
   "id": "ee0fafe9",
   "metadata": {},
   "source": [
    "## Justificación del Algoritmo\n",
    "El aprendizaje por refuerzo combina el poder de la clasificación supervisada con la capacidad de los modelos no supervisados para descubrir patrones ocultos en los datos. Esto permite al modelo ajustar sus predicciones en base a patrones previamente no etiquetados, mejorando la generalización y precisión en el análisis financiero."
   ]
  },
  {
   "cell_type": "markdown",
   "id": "5aa7f87c",
   "metadata": {},
   "source": [
    "## Carga y Preprocesamiento de Datos\n",
    "Se carga el conjunto de datos y se preparan las características y etiquetas para los modelos supervisado y no supervisado."
   ]
  },
  {
   "cell_type": "code",
   "execution_count": null,
   "id": "6e6a3fb9",
   "metadata": {},
   "outputs": [],
   "source": [
    "\n",
    "# Importar bibliotecas necesarias\n",
    "import pandas as pd\n",
    "from sklearn.model_selection import train_test_split\n",
    "from sklearn.tree import DecisionTreeClassifier\n",
    "from sklearn.metrics import accuracy_score, classification_report\n",
    "from sklearn.cluster import KMeans\n",
    "import matplotlib.pyplot as plt\n",
    "\n",
    "# Cargar el conjunto de datos\n",
    "data = pd.read_csv('dataset_consejos_financieros_ampliado.csv')\n",
    "\n",
    "# Renombrar columnas para simplificar\n",
    "data.rename(columns={\n",
    "    'Ingresos Totales': 'Ingresos',\n",
    "    'Egresos Totales': 'Egresos',\n",
    "    'Balance': 'Balance',\n",
    "    'Consejo Financiero': 'Consejo'\n",
    "}, inplace=True)\n",
    "\n",
    "# Extraer nombres originales de las categorías\n",
    "original_categories = data['Consejo'].unique()\n",
    "\n",
    "# Convertir la columna 'Consejo' a categorías numéricas\n",
    "data['Consejo'] = data['Consejo'].astype('category').cat.codes\n",
    "\n",
    "# Separar características y variable objetivo\n",
    "X = data[['Ingresos', 'Egresos', 'Balance']]\n",
    "y = data['Consejo']\n",
    "\n",
    "# Dividir el conjunto de datos en entrenamiento y prueba\n",
    "X_train, X_test, y_train, y_test = train_test_split(X, y, test_size=0.2, random_state=42)\n"
   ]
  },
  {
   "cell_type": "markdown",
   "id": "01a788d6",
   "metadata": {},
   "source": [
    "## Entrenamiento Supervisado: Árbol de Decisión\n",
    "Se entrena un modelo de Árbol de Decisión para clasificar los consejos financieros."
   ]
  },
  {
   "cell_type": "code",
   "execution_count": null,
   "id": "53fbaa0c",
   "metadata": {},
   "outputs": [],
   "source": [
    "\n",
    "# Entrenar el modelo de Árbol de Decisión\n",
    "supervised_model = DecisionTreeClassifier(random_state=42)\n",
    "supervised_model.fit(X_train, y_train)\n",
    "\n",
    "# Realizar predicciones\n",
    "y_pred_supervised = supervised_model.predict(X_test)\n",
    "\n",
    "# Evaluar la precisión del modelo supervisado\n",
    "accuracy_supervised = accuracy_score(y_test, y_pred_supervised)\n",
    "print(f\"Precisión del modelo supervisado: {accuracy_supervised:.2f}\")\n"
   ]
  },
  {
   "cell_type": "markdown",
   "id": "b13eb1e1",
   "metadata": {},
   "source": [
    "## Aprendizaje No Supervisado: K-Means\n",
    "Se utiliza K-Means para descubrir patrones en los datos sin etiquetas."
   ]
  },
  {
   "cell_type": "code",
   "execution_count": null,
   "id": "c966869e",
   "metadata": {},
   "outputs": [],
   "source": [
    "\n",
    "# Aplicar K-Means con 3 clusters\n",
    "kmeans = KMeans(n_clusters=3, random_state=42)\n",
    "kmeans.fit(X)\n",
    "\n",
    "# Agregar los clusters como una nueva característica\n",
    "data['Cluster'] = kmeans.labels_\n",
    "X['Cluster'] = kmeans.labels_\n",
    "\n",
    "# Visualizar los clusters\n",
    "plt.figure(figsize=(10, 6))\n",
    "plt.scatter(X['Ingresos'], X['Egresos'], c=data['Cluster'], cmap='viridis', alpha=0.7)\n",
    "plt.title('Visualización de Clusters de K-Means')\n",
    "plt.xlabel('Ingresos')\n",
    "plt.ylabel('Egresos')\n",
    "plt.colorbar(label='Cluster')\n",
    "plt.grid(True)\n",
    "plt.show()\n"
   ]
  },
  {
   "cell_type": "markdown",
   "id": "371f0af3",
   "metadata": {},
   "source": [
    "## Integración Supervisado-No Supervisado\n",
    "Se entrena un nuevo modelo supervisado utilizando los clusters como una característica adicional para mejorar las predicciones."
   ]
  },
  {
   "cell_type": "code",
   "execution_count": null,
   "id": "5ba9bc56",
   "metadata": {},
   "outputs": [],
   "source": [
    "\n",
    "# Incluir los clusters como característica adicional en el conjunto de datos de entrenamiento y prueba\n",
    "X_train['Cluster'] = kmeans.predict(X_train)\n",
    "X_test['Cluster'] = kmeans.predict(X_test)\n",
    "\n",
    "# Entrenar el modelo supervisado con los clusters\n",
    "reinforced_model = DecisionTreeClassifier(random_state=42)\n",
    "reinforced_model.fit(X_train, y_train)\n",
    "\n",
    "# Realizar predicciones\n",
    "y_pred_reinforced = reinforced_model.predict(X_test)\n",
    "\n",
    "# Evaluar la precisión del modelo reforzado\n",
    "accuracy_reinforced = accuracy_score(y_test, y_pred_reinforced)\n",
    "print(f\"Precisión del modelo reforzado: {accuracy_reinforced:.2f}\")\n"
   ]
  },
  {
   "cell_type": "markdown",
   "id": "8c815605",
   "metadata": {},
   "source": [
    "## Evaluación Comparativa\n",
    "Se comparan las precisiones de los modelos supervisado y reforzado para evaluar el impacto del aprendizaje por refuerzo."
   ]
  },
  {
   "cell_type": "code",
   "execution_count": null,
   "id": "cc874677",
   "metadata": {},
   "outputs": [],
   "source": [
    "\n",
    "print(f\"Precisión del modelo supervisado: {accuracy_supervised:.2f}\")\n",
    "print(f\"Precisión del modelo reforzado: {accuracy_reinforced:.2f}\")\n"
   ]
  },
  {
   "cell_type": "markdown",
   "id": "aa08d734",
   "metadata": {},
   "source": [
    "## Visualización e Interpretación del Árbol de Decisión Reforzado\n",
    "Se genera una gráfica personalizada del Árbol de Decisión para interpretar las decisiones del modelo reforzado."
   ]
  },
  {
   "cell_type": "code",
   "execution_count": null,
   "id": "98e237e7",
   "metadata": {},
   "outputs": [],
   "source": [
    "\n",
    "# Visualizar el Árbol de Decisión reforzado\n",
    "plt.figure(figsize=(20, 10))\n",
    "plot_tree(reinforced_model, feature_names=X.columns, class_names=original_categories, filled=True, rounded=True)\n",
    "plt.title(\"Árbol de Decisión Reforzado para Consejos Financieros\")\n",
    "plt.show()\n"
   ]
  },
  {
   "cell_type": "markdown",
   "id": "dcfa59be",
   "metadata": {},
   "source": [
    "## Enlace hacia el Repositorio\n",
    "El modelo completo y el código fuente se encuentran disponibles en el siguiente repositorio:\n",
    "[Enlace al repositorio]"
   ]
  }
 ],
 "metadata": {},
 "nbformat": 4,
 "nbformat_minor": 5
}
