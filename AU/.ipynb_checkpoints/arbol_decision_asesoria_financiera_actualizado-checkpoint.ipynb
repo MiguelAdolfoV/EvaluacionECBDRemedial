{
 "cells": [
  {
   "cell_type": "markdown",
   "id": "b1c2ebfa",
   "metadata": {},
   "source": [
    "# Árbol de Decisión para Asesoría Financiera"
   ]
  },
  {
   "cell_type": "markdown",
   "id": "82f0f98d",
   "metadata": {},
   "source": [
    "## Introducción\n",
    "Este notebook implementa un modelo de árbol de decisión para proporcionar asesoramiento financiero basado en un conjunto de datos simulado. El objetivo es clasificar y generar consejos personalizados según las características financieras de los usuarios."
   ]
  },
  {
   "cell_type": "markdown",
   "id": "ffaf21e2",
   "metadata": {},
   "source": [
    "## Justificación del Algoritmo\n",
    "El árbol de decisión se seleccionó como algoritmo debido a su interpretabilidad y capacidad para manejar datos categóricos y continuos. Además, su representación gráfica facilita la explicación de decisiones a usuarios no técnicos."
   ]
  },
  {
   "cell_type": "markdown",
   "id": "fcfc30d9",
   "metadata": {},
   "source": [
    "## Carga y Preprocesamiento de Datos\n",
    "Se carga el conjunto de datos simulado, que incluye características financieras de los usuarios, y se realiza la limpieza y transformación necesarias antes del entrenamiento del modelo."
   ]
  },
  {
   "cell_type": "code",
   "execution_count": null,
   "id": "2a68fbaf",
   "metadata": {},
   "outputs": [],
   "source": [
    "\n",
    "# Importar bibliotecas necesarias\n",
    "import pandas as pd\n",
    "from sklearn.model_selection import train_test_split\n",
    "from sklearn.tree import DecisionTreeClassifier\n",
    "from sklearn.metrics import classification_report, accuracy_score\n",
    "\n",
    "# Cargar conjunto de datos\n",
    "data = pd.read_csv('dataset_financiero_simulado.csv')\n",
    "\n",
    "# Renombrar columnas para simplificar\n",
    "data.rename(columns={\n",
    "    'Ingresos Totales': 'Ingresos',\n",
    "    'Egresos Totales': 'Egresos',\n",
    "    'Balance': 'Balance',\n",
    "    'Consejo Financiero': 'Consejo'\n",
    "}, inplace=True)\n",
    "\n",
    "# Convertir la columna 'Consejo' a categorías numéricas\n",
    "data['Consejo'] = data['Consejo'].astype('category').cat.codes\n",
    "\n",
    "# Separar características y variable objetivo\n",
    "X = data[['Ingresos', 'Egresos', 'Balance']]\n",
    "y = data['Consejo']\n",
    "\n",
    "# Dividir el conjunto de datos en entrenamiento y prueba\n",
    "X_train, X_test, y_train, y_test = train_test_split(X, y, test_size=0.2, random_state=42)\n"
   ]
  },
  {
   "cell_type": "markdown",
   "id": "fed5df2a",
   "metadata": {},
   "source": [
    "## Diseño del Modelo\n",
    "El modelo se entrena utilizando un clasificador de árbol de decisión con parámetros predeterminados. El conjunto de datos se divide en un 80% para entrenamiento y un 20% para prueba, asegurando una evaluación justa."
   ]
  },
  {
   "cell_type": "code",
   "execution_count": null,
   "id": "a9735622",
   "metadata": {},
   "outputs": [],
   "source": [
    "\n",
    "# Entrenar el modelo de árbol de decisión\n",
    "model = DecisionTreeClassifier(random_state=42)\n",
    "model.fit(X_train, y_train)\n",
    "\n",
    "# Realizar predicciones\n",
    "y_pred = model.predict(X_test)\n",
    "\n",
    "# Evaluar la precisión del modelo\n",
    "accuracy = accuracy_score(y_test, y_pred)\n",
    "print(f\"Precisión del modelo: {accuracy:.2f}\")\n"
   ]
  },
  {
   "cell_type": "markdown",
   "id": "886d2c7c",
   "metadata": {},
   "source": [
    "## Evaluación y Optimización del Modelo\n",
    "Se evalúa el desempeño del modelo mediante métricas como precisión y un reporte de clasificación. Adicionalmente, se analiza la importancia de las características para optimizar futuras implementaciones."
   ]
  },
  {
   "cell_type": "code",
   "execution_count": null,
   "id": "5c0696fb",
   "metadata": {},
   "outputs": [],
   "source": [
    "\n",
    "# Reporte de clasificación\n",
    "report = classification_report(y_test, y_pred, target_names=data['Consejo'].astype('category').cat.categories)\n",
    "print(\"Reporte de Clasificación:\")\n",
    "print(report)\n"
   ]
  },
  {
   "cell_type": "markdown",
   "id": "28d0e882",
   "metadata": {},
   "source": [
    "## Gráfica Personalizada e Interpretación de Resultados\n",
    "La estructura del árbol de decisión se visualiza para interpretar cómo el modelo toma decisiones y utiliza las características financieras."
   ]
  },
  {
   "cell_type": "code",
   "execution_count": null,
   "id": "5a766506",
   "metadata": {},
   "outputs": [],
   "source": [
    "\n",
    "from sklearn.tree import plot_tree\n",
    "import matplotlib.pyplot as plt\n",
    "\n",
    "# Visualizar el árbol de decisión\n",
    "plt.figure(figsize=(20, 10))\n",
    "plot_tree(model, feature_names=X.columns, class_names=data['Consejo'].astype('category').cat.categories, \n",
    "          filled=True, rounded=True)\n",
    "plt.title(\"Árbol de Decisión para Asesoría Financiera\")\n",
    "plt.show()\n"
   ]
  },
  {
   "cell_type": "markdown",
   "id": "8da92462",
   "metadata": {},
   "source": [
    "## Enlace hacia el Repositorio\n",
    "El modelo completo y el código fuente se encuentran disponibles en el siguiente repositorio:\n",
    "[Enlace al repositorio]"
   ]
  }
 ],
 "metadata": {},
 "nbformat": 4,
 "nbformat_minor": 5
}
