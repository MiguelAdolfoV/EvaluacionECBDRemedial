{
 "cells": [
  {
   "cell_type": "markdown",
   "id": "edae69b3",
   "metadata": {},
   "source": [
    "# Árbol de Decisión para Asesoría Financiera"
   ]
  },
  {
   "cell_type": "markdown",
   "id": "696a85f9",
   "metadata": {},
   "source": [
    "## Introducción\n",
    "Este notebook implementa un modelo de árbol de decisión para proporcionar asesoramiento financiero basado en un conjunto de datos simulado. El objetivo es clasificar y generar consejos personalizados según las características financieras de los usuarios."
   ]
  },
  {
   "cell_type": "markdown",
   "id": "5e24f018",
   "metadata": {},
   "source": [
    "## Justificación del Algoritmo\n",
    "El árbol de decisión se seleccionó como algoritmo debido a su interpretabilidad y capacidad para manejar datos categóricos y continuos. Además, su representación gráfica facilita la explicación de decisiones a usuarios no técnicos."
   ]
  },
  {
   "cell_type": "markdown",
   "id": "b6ad6b12",
   "metadata": {},
   "source": [
    "## Carga y Preprocesamiento de Datos\n",
    "Se carga el conjunto de datos simulado, que incluye características financieras de los usuarios, y se realiza la limpieza y transformación necesarias antes del entrenamiento del modelo."
   ]
  },
  {
   "cell_type": "code",
   "execution_count": null,
   "id": "9980a514",
   "metadata": {},
   "outputs": [],
   "source": [
    "\n",
    "# Importar bibliotecas necesarias\n",
    "import pandas as pd\n",
    "from sklearn.model_selection import train_test_split\n",
    "from sklearn.tree import DecisionTreeClassifier\n",
    "from sklearn.metrics import classification_report, accuracy_score\n",
    "\n",
    "# Cargar conjunto de datos\n",
    "data = pd.read_csv('dataset_financiero_simulado.csv')\n",
    "\n",
    "# Separar características y variable objetivo\n",
    "X = data.drop(columns=['consejo'])\n",
    "y = data['consejo']\n",
    "\n",
    "# Dividir el conjunto de datos en entrenamiento y prueba\n",
    "X_train, X_test, y_train, y_test = train_test_split(X, y, test_size=0.2, random_state=42)\n"
   ]
  },
  {
   "cell_type": "markdown",
   "id": "06ba7a32",
   "metadata": {},
   "source": [
    "## Diseño del Modelo\n",
    "El modelo se entrena utilizando un clasificador de árbol de decisión con parámetros predeterminados. El conjunto de datos se divide en un 80% para entrenamiento y un 20% para prueba, asegurando una evaluación justa."
   ]
  },
  {
   "cell_type": "code",
   "execution_count": null,
   "id": "e529e3d8",
   "metadata": {},
   "outputs": [],
   "source": [
    "\n",
    "# Entrenar el modelo de árbol de decisión\n",
    "model = DecisionTreeClassifier(random_state=42)\n",
    "model.fit(X_train, y_train)\n",
    "\n",
    "# Realizar predicciones\n",
    "y_pred = model.predict(X_test)\n",
    "\n",
    "# Evaluar la precisión del modelo\n",
    "accuracy = accuracy_score(y_test, y_pred)\n",
    "print(f\"Precisión del modelo: {accuracy:.2f}\")\n"
   ]
  },
  {
   "cell_type": "markdown",
   "id": "95235c23",
   "metadata": {},
   "source": [
    "## Evaluación y Optimización del Modelo\n",
    "Se evalúa el desempeño del modelo mediante métricas como precisión y un reporte de clasificación. Adicionalmente, se analiza la importancia de las características para optimizar futuras implementaciones."
   ]
  },
  {
   "cell_type": "code",
   "execution_count": null,
   "id": "b6990fcc",
   "metadata": {},
   "outputs": [],
   "source": [
    "\n",
    "# Reporte de clasificación\n",
    "report = classification_report(y_test, y_pred, target_names=data['consejo'].unique())\n",
    "print(\"Reporte de Clasificación:\")\n",
    "print(report)\n"
   ]
  },
  {
   "cell_type": "markdown",
   "id": "62b87033",
   "metadata": {},
   "source": [
    "## Gráfica Personalizada e Interpretación de Resultados\n",
    "La estructura del árbol de decisión se visualiza para interpretar cómo el modelo toma decisiones y utiliza las características financieras."
   ]
  },
  {
   "cell_type": "code",
   "execution_count": null,
   "id": "b5ccb56a",
   "metadata": {},
   "outputs": [],
   "source": [
    "\n",
    "from sklearn.tree import plot_tree\n",
    "import matplotlib.pyplot as plt\n",
    "\n",
    "# Visualizar el árbol de decisión\n",
    "plt.figure(figsize=(20, 10))\n",
    "plot_tree(model, feature_names=X.columns, class_names=model.classes_, filled=True, rounded=True)\n",
    "plt.title(\"Árbol de Decisión para Asesoría Financiera\")\n",
    "plt.show()\n"
   ]
  },
  {
   "cell_type": "markdown",
   "id": "997676b6",
   "metadata": {},
   "source": [
    "## Enlace hacia el Repositorio\n",
    "El modelo completo y el código fuente se encuentran disponibles en el siguiente repositorio:\n",
    "[Enlace al repositorio]"
   ]
  }
 ],
 "metadata": {},
 "nbformat": 4,
 "nbformat_minor": 5
}
