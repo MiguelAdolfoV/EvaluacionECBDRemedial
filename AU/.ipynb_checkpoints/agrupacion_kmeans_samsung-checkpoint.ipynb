{
 "cells": [
  {
   "cell_type": "markdown",
   "id": "2feff1dc",
   "metadata": {},
   "source": [
    "# Agrupación de Datos con K-Means: Samsung Data"
   ]
  },
  {
   "cell_type": "markdown",
   "id": "3129b186",
   "metadata": {},
   "source": [
    "## Introducción\n",
    "En este notebook, se utiliza el algoritmo K-Means para realizar agrupaciones en un conjunto de datos financieros de Samsung, analizando patrones en el precio de cierre (`Close`) y el volumen de transacciones (`Volume`). El objetivo es identificar grupos similares en los datos no etiquetados."
   ]
  },
  {
   "cell_type": "markdown",
   "id": "78c75cd5",
   "metadata": {},
   "source": [
    "## Carga y Preprocesamiento de Datos\n",
    "En esta sección se cargan los datos, se transforman las fechas, y se normalizan las columnas numéricas para preparar el conjunto de datos para el algoritmo de agrupación."
   ]
  },
  {
   "cell_type": "code",
   "execution_count": null,
   "id": "4bf56871",
   "metadata": {},
   "outputs": [],
   "source": [
    "\n",
    "# Importar las bibliotecas necesarias\n",
    "import pandas as pd\n",
    "from sklearn.preprocessing import StandardScaler\n",
    "\n",
    "# Cargar el conjunto de datos\n",
    "data = pd.read_csv('samsung.csv')\n",
    "\n",
    "# Convertir las fechas al formato datetime y eliminar la columna 'Date' para la agrupación\n",
    "data['Date'] = pd.to_datetime(data['Date'], format='%d/%m/%Y')\n",
    "numeric_data = data[['Close', 'Volume']]\n",
    "\n",
    "# Estandarizar los datos numéricos\n",
    "scaler = StandardScaler()\n",
    "scaled_data = scaler.fit_transform(numeric_data)\n",
    "\n",
    "# Mostrar un resumen de los datos\n",
    "data.head()\n"
   ]
  },
  {
   "cell_type": "markdown",
   "id": "2433b9dd",
   "metadata": {},
   "source": [
    "## Determinación del Número de Clusters\n",
    "Se utiliza el método del codo para determinar el número óptimo de clusters, analizando la inercia de K-Means para diferentes valores de k."
   ]
  },
  {
   "cell_type": "code",
   "execution_count": null,
   "id": "cf8a5585",
   "metadata": {},
   "outputs": [],
   "source": [
    "\n",
    "from sklearn.cluster import KMeans\n",
    "import matplotlib.pyplot as plt\n",
    "\n",
    "# Determinar el número óptimo de clusters utilizando el método del codo\n",
    "inertia = []\n",
    "k_range = range(1, 11)\n",
    "for k in k_range:\n",
    "    kmeans = KMeans(n_clusters=k, random_state=42)\n",
    "    kmeans.fit(scaled_data)\n",
    "    inertia.append(kmeans.inertia_)\n",
    "\n",
    "# Gráfica del método del codo\n",
    "plt.figure(figsize=(8, 5))\n",
    "plt.plot(k_range, inertia, marker='o')\n",
    "plt.title('Método del Codo para Determinar el Número de Clusters')\n",
    "plt.xlabel('Número de Clusters (k)')\n",
    "plt.ylabel('Inercia')\n",
    "plt.xticks(k_range)\n",
    "plt.show()\n"
   ]
  },
  {
   "cell_type": "markdown",
   "id": "8222e459",
   "metadata": {},
   "source": [
    "## Entrenamiento del Modelo\n",
    "Se entrena el modelo K-Means utilizando el número óptimo de clusters determinado en el paso anterior."
   ]
  },
  {
   "cell_type": "code",
   "execution_count": null,
   "id": "dae1ccb2",
   "metadata": {},
   "outputs": [],
   "source": [
    "\n",
    "# Definir el número óptimo de clusters\n",
    "optimal_k = 3\n",
    "\n",
    "# Entrenar el modelo K-Means\n",
    "kmeans_model = KMeans(n_clusters=optimal_k, random_state=42)\n",
    "data['Cluster'] = kmeans_model.fit_predict(scaled_data)\n",
    "\n",
    "# Resumen del tamaño de cada cluster\n",
    "data['Cluster'].value_counts()\n"
   ]
  },
  {
   "cell_type": "markdown",
   "id": "f2f2b77f",
   "metadata": {},
   "source": [
    "## Visualización e Interpretación de Resultados\n",
    "Se genera una gráfica de dispersión para visualizar los clusters y analizar la distribución de los datos en función del precio de cierre (`Close`) y el volumen (`Volume`)."
   ]
  },
  {
   "cell_type": "code",
   "execution_count": null,
   "id": "7f112df9",
   "metadata": {},
   "outputs": [],
   "source": [
    "\n",
    "# Visualizar los clusters\n",
    "plt.figure(figsize=(10, 6))\n",
    "for cluster in range(optimal_k):\n",
    "    cluster_data = data[data['Cluster'] == cluster]\n",
    "    plt.scatter(cluster_data['Close'], cluster_data['Volume'], label=f'Cluster {cluster}', alpha=0.6)\n",
    "\n",
    "plt.title('Visualización de Clusters')\n",
    "plt.xlabel('Precio de Cierre (Close)')\n",
    "plt.ylabel('Volumen (Volume)')\n",
    "plt.legend()\n",
    "plt.grid(True)\n",
    "plt.show()\n"
   ]
  }
 ],
 "metadata": {},
 "nbformat": 4,
 "nbformat_minor": 5
}
