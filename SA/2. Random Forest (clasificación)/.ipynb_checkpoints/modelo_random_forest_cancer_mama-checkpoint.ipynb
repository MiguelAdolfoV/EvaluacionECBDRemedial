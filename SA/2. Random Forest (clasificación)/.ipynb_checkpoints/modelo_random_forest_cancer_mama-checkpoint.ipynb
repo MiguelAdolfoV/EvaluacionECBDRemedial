{
 "cells": [
  {
   "cell_type": "markdown",
   "id": "895b3aca",
   "metadata": {},
   "source": [
    "# Modelo Random Forest para la Clasificación del Cáncer de Mama"
   ]
  },
  {
   "cell_type": "markdown",
   "id": "1c8215bc",
   "metadata": {},
   "source": [
    "Este notebook implementa un modelo Random Forest utilizando el conjunto de datos `breast_cancer.csv`. El objetivo es lograr una precisión de clasificación de al menos el 80%."
   ]
  },
  {
   "cell_type": "code",
   "execution_count": null,
   "id": "48546378",
   "metadata": {},
   "outputs": [],
   "source": [
    "\n",
    "# Importar las bibliotecas necesarias\n",
    "import pandas as pd\n",
    "from sklearn.model_selection import train_test_split\n",
    "from sklearn.ensemble import RandomForestClassifier\n",
    "from sklearn.metrics import accuracy_score, confusion_matrix, ConfusionMatrixDisplay, classification_report\n",
    "import matplotlib.pyplot as plt\n",
    "import numpy as np\n",
    "\n",
    "# Cargar el conjunto de datos\n",
    "data = pd.read_csv('breast_cancer.csv')\n",
    "\n",
    "# Eliminar la columna 'id' y preprocesar la variable objetivo\n",
    "data = data.drop(['id'], axis=1)\n",
    "data['diagnosis'] = data['diagnosis'].map({'M': 1, 'B': 0})\n",
    "\n",
    "# Separar las características y la variable objetivo\n",
    "X = data.drop('diagnosis', axis=1)\n",
    "y = data['diagnosis']\n",
    "\n",
    "# Dividir el conjunto de datos\n",
    "X_train, X_test, y_train, y_test = train_test_split(X, y, test_size=0.2, random_state=42, stratify=y)\n",
    "\n",
    "# Entrenar el modelo Random Forest\n",
    "model = RandomForestClassifier(random_state=42, n_estimators=100)\n",
    "model.fit(X_train, y_train)\n",
    "\n",
    "# Realizar predicciones\n",
    "y_pred = model.predict(X_test)\n",
    "accuracy = accuracy_score(y_test, y_pred)\n",
    "print(f\"Precisión: {accuracy:.2f}\")\n"
   ]
  },
  {
   "cell_type": "markdown",
   "id": "888efd5d",
   "metadata": {},
   "source": [
    "## Análisis de Resultados"
   ]
  },
  {
   "cell_type": "code",
   "execution_count": null,
   "id": "0480c6cb",
   "metadata": {},
   "outputs": [],
   "source": [
    "\n",
    "# Matriz de Confusión\n",
    "cm = confusion_matrix(y_test, y_pred)\n",
    "disp = ConfusionMatrixDisplay(confusion_matrix=cm, display_labels=model.classes_)\n",
    "disp.plot(cmap=plt.cm.Blues)\n",
    "plt.title('Matriz de Confusión')\n",
    "plt.show()\n",
    "\n",
    "# Importancia de las Características\n",
    "importances = model.feature_importances_\n",
    "indices = np.argsort(importances)[::-1]\n",
    "features = X.columns\n",
    "\n",
    "plt.figure(figsize=(10, 6))\n",
    "plt.title(\"Importancia de las Características\")\n",
    "plt.bar(range(X.shape[1]), importances[indices], align=\"center\")\n",
    "plt.xticks(range(X.shape[1]), [features[i] for i in indices], rotation=90)\n",
    "plt.xlabel(\"Características\")\n",
    "plt.ylabel(\"Importancia\")\n",
    "plt.tight_layout()\n",
    "plt.show()\n",
    "\n",
    "# Reporte de Clasificación\n",
    "report = classification_report(y_test, y_pred, target_names=[\"Benigno (B)\", \"Maligno (M)\"])\n",
    "print(\"Reporte de Clasificación:\")\n",
    "print(report)\n"
   ]
  }
 ],
 "metadata": {},
 "nbformat": 4,
 "nbformat_minor": 5
}
