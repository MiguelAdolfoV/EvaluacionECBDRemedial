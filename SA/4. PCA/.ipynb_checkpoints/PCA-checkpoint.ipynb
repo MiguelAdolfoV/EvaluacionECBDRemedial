{
 "cells": [
  {
   "cell_type": "markdown",
   "id": "afe83a73",
   "metadata": {},
   "source": [
    "# Reducción de Dimensionalidad con PCA: Comprar o Alquilar"
   ]
  },
  {
   "cell_type": "markdown",
   "id": "96b20b30",
   "metadata": {},
   "source": [
    "## Introducción\n",
    "En este notebook, se aplica el algoritmo de Análisis de Componentes Principales (PCA) para reducir la dimensionalidad del conjunto de datos `comprar_alquilar.csv`. El objetivo es identificar las componentes principales que explican al menos el 80% de la varianza, facilitando la interpretación y análisis de los datos."
   ]
  },
  {
   "cell_type": "markdown",
   "id": "4ba83e0a",
   "metadata": {},
   "source": [
    "## Carga y Preprocesamiento de Datos\n",
    "En esta sección, se cargan los datos y se estandarizan las características numéricas para garantizar que todas las variables contribuyan equitativamente al modelo."
   ]
  },
  {
   "cell_type": "code",
   "execution_count": null,
   "id": "62b2cdda",
   "metadata": {},
   "outputs": [],
   "source": [
    "\n",
    "# Importar las bibliotecas necesarias\n",
    "import pandas as pd\n",
    "from sklearn.preprocessing import StandardScaler\n",
    "\n",
    "# Cargar el conjunto de datos\n",
    "data = pd.read_csv('comprar_alquilar.csv')\n",
    "\n",
    "# Separar características y variable objetivo\n",
    "X = data.drop(columns=['comprar'])\n",
    "y = data['comprar']\n",
    "\n",
    "# Estandarizar las características\n",
    "scaler = StandardScaler()\n",
    "X_scaled = scaler.fit_transform(X)\n",
    "\n",
    "# Mostrar un resumen de los datos estandarizados\n",
    "pd.DataFrame(X_scaled, columns=X.columns).head()\n"
   ]
  },
  {
   "cell_type": "markdown",
   "id": "351b661b",
   "metadata": {},
   "source": [
    "## Análisis de Componentes Principales\n",
    "Se aplica PCA para calcular las componentes principales y analizar la proporción de varianza explicada. El objetivo es determinar cuántas componentes son necesarias para retener al menos el 80% de la varianza."
   ]
  },
  {
   "cell_type": "code",
   "execution_count": null,
   "id": "6da100d9",
   "metadata": {},
   "outputs": [],
   "source": [
    "\n",
    "from sklearn.decomposition import PCA\n",
    "import matplotlib.pyplot as plt\n",
    "\n",
    "# Aplicar PCA y calcular la varianza explicada\n",
    "pca = PCA()\n",
    "X_pca = pca.fit_transform(X_scaled)\n",
    "explained_variance_ratio = pca.explained_variance_ratio_\n",
    "cumulative_variance = explained_variance_ratio.cumsum()\n",
    "\n",
    "# Gráfica de varianza acumulada\n",
    "plt.figure(figsize=(8, 5))\n",
    "plt.plot(range(1, len(cumulative_variance) + 1), cumulative_variance, marker='o', linestyle='--')\n",
    "plt.title('Varianza Acumulada por Componentes Principales')\n",
    "plt.xlabel('Número de Componentes Principales')\n",
    "plt.ylabel('Varianza Acumulada')\n",
    "plt.grid(True)\n",
    "plt.show()\n",
    "\n",
    "# Determinar el número de componentes necesarias para alcanzar el 80% de varianza explicada\n",
    "num_components_80 = (cumulative_variance >= 0.80).argmax() + 1\n",
    "print(f\"Número óptimo de componentes: {num_components_80}\")\n"
   ]
  },
  {
   "cell_type": "markdown",
   "id": "2ea9093c",
   "metadata": {},
   "source": [
    "## Reducción de Dimensionalidad\n",
    "Se reduce la dimensionalidad del conjunto de datos utilizando las componentes principales óptimas calculadas anteriormente."
   ]
  },
  {
   "cell_type": "code",
   "execution_count": null,
   "id": "f50adec8",
   "metadata": {},
   "outputs": [],
   "source": [
    "\n",
    "# Aplicar PCA con el número óptimo de componentes\n",
    "pca_optimal = PCA(n_components=num_components_80)\n",
    "X_reduced = pca_optimal.fit_transform(X_scaled)\n",
    "\n",
    "# Mostrar la proporción de varianza explicada por las componentes seleccionadas\n",
    "explained_variance_optimal = pca_optimal.explained_variance_ratio_.sum()\n",
    "print(f\"Varianza explicada por las {num_components_80} componentes: {explained_variance_optimal:.2f}\")\n"
   ]
  },
  {
   "cell_type": "markdown",
   "id": "ba557bcf",
   "metadata": {},
   "source": [
    "## Visualización e Interpretación de Resultados\n",
    "Se genera una gráfica de las dos primeras componentes principales para analizar la distribución de los datos."
   ]
  },
  {
   "cell_type": "code",
   "execution_count": null,
   "id": "a9690792",
   "metadata": {},
   "outputs": [],
   "source": [
    "\n",
    "# Visualizar las dos primeras componentes principales\n",
    "plt.figure(figsize=(10, 6))\n",
    "scatter = plt.scatter(X_reduced[:, 0], X_reduced[:, 1], c=y, cmap='viridis', alpha=0.7)\n",
    "plt.title('Visualización de las Primeras Dos Componentes Principales')\n",
    "plt.xlabel('Componente Principal 1')\n",
    "plt.ylabel('Componente Principal 2')\n",
    "plt.colorbar(scatter, label='Comprar (0 = No, 1 = Sí)')\n",
    "plt.grid(True)\n",
    "plt.show()\n"
   ]
  }
 ],
 "metadata": {},
 "nbformat": 4,
 "nbformat_minor": 5
}
