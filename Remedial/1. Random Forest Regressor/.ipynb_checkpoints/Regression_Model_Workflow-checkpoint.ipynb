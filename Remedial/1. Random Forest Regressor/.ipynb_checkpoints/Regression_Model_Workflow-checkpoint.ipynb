{
 "cells": [
  {
   "cell_type": "markdown",
   "id": "fe700fe5",
   "metadata": {},
   "source": [
    "# Random Forest Regressor"
   ]
  },
  {
   "cell_type": "code",
   "execution_count": 1,
   "id": "32bda229",
   "metadata": {},
   "outputs": [],
   "source": [
    "# Importación de librerías necesarias\n",
    "import pandas as pd\n",
    "import numpy as np\n",
    "from sklearn.model_selection import train_test_split\n",
    "from sklearn.ensemble import RandomForestRegressor\n",
    "from sklearn.metrics import mean_squared_error, r2_score\n",
    "import matplotlib.pyplot as plt"
   ]
  },
  {
   "cell_type": "markdown",
   "id": "df4de7cf",
   "metadata": {},
   "source": [
    "## Carga del dataset"
   ]
  },
  {
   "cell_type": "code",
   "execution_count": 2,
   "id": "ef8dd3b8",
   "metadata": {},
   "outputs": [
    {
     "data": {
      "text/html": [
       "<div>\n",
       "<style scoped>\n",
       "    .dataframe tbody tr th:only-of-type {\n",
       "        vertical-align: middle;\n",
       "    }\n",
       "\n",
       "    .dataframe tbody tr th {\n",
       "        vertical-align: top;\n",
       "    }\n",
       "\n",
       "    .dataframe thead th {\n",
       "        text-align: right;\n",
       "    }\n",
       "</style>\n",
       "<table border=\"1\" class=\"dataframe\">\n",
       "  <thead>\n",
       "    <tr style=\"text-align: right;\">\n",
       "      <th></th>\n",
       "      <th>Title</th>\n",
       "      <th>url</th>\n",
       "      <th>Word count</th>\n",
       "      <th># of Links</th>\n",
       "      <th># of comments</th>\n",
       "      <th># Images video</th>\n",
       "      <th>Elapsed days</th>\n",
       "      <th># Shares</th>\n",
       "    </tr>\n",
       "  </thead>\n",
       "  <tbody>\n",
       "    <tr>\n",
       "      <th>0</th>\n",
       "      <td>What is Machine Learning and how do we use it ...</td>\n",
       "      <td>https://blog.signals.network/what-is-machine-l...</td>\n",
       "      <td>1888</td>\n",
       "      <td>1</td>\n",
       "      <td>2.0</td>\n",
       "      <td>2</td>\n",
       "      <td>34</td>\n",
       "      <td>200000</td>\n",
       "    </tr>\n",
       "    <tr>\n",
       "      <th>1</th>\n",
       "      <td>10 Companies Using Machine Learning in Cool Ways</td>\n",
       "      <td>NaN</td>\n",
       "      <td>1742</td>\n",
       "      <td>9</td>\n",
       "      <td>NaN</td>\n",
       "      <td>9</td>\n",
       "      <td>5</td>\n",
       "      <td>25000</td>\n",
       "    </tr>\n",
       "    <tr>\n",
       "      <th>2</th>\n",
       "      <td>How Artificial Intelligence Is Revolutionizing...</td>\n",
       "      <td>NaN</td>\n",
       "      <td>962</td>\n",
       "      <td>6</td>\n",
       "      <td>0.0</td>\n",
       "      <td>1</td>\n",
       "      <td>10</td>\n",
       "      <td>42000</td>\n",
       "    </tr>\n",
       "    <tr>\n",
       "      <th>3</th>\n",
       "      <td>Dbrain and the Blockchain of Artificial Intell...</td>\n",
       "      <td>NaN</td>\n",
       "      <td>1221</td>\n",
       "      <td>3</td>\n",
       "      <td>NaN</td>\n",
       "      <td>2</td>\n",
       "      <td>68</td>\n",
       "      <td>200000</td>\n",
       "    </tr>\n",
       "    <tr>\n",
       "      <th>4</th>\n",
       "      <td>Nasa finds entire solar system filled with eig...</td>\n",
       "      <td>NaN</td>\n",
       "      <td>2039</td>\n",
       "      <td>1</td>\n",
       "      <td>104.0</td>\n",
       "      <td>4</td>\n",
       "      <td>131</td>\n",
       "      <td>200000</td>\n",
       "    </tr>\n",
       "  </tbody>\n",
       "</table>\n",
       "</div>"
      ],
      "text/plain": [
       "                                               Title  \\\n",
       "0  What is Machine Learning and how do we use it ...   \n",
       "1   10 Companies Using Machine Learning in Cool Ways   \n",
       "2  How Artificial Intelligence Is Revolutionizing...   \n",
       "3  Dbrain and the Blockchain of Artificial Intell...   \n",
       "4  Nasa finds entire solar system filled with eig...   \n",
       "\n",
       "                                                 url  Word count  # of Links  \\\n",
       "0  https://blog.signals.network/what-is-machine-l...        1888           1   \n",
       "1                                                NaN        1742           9   \n",
       "2                                                NaN         962           6   \n",
       "3                                                NaN        1221           3   \n",
       "4                                                NaN        2039           1   \n",
       "\n",
       "   # of comments  # Images video  Elapsed days  # Shares  \n",
       "0            2.0               2            34    200000  \n",
       "1            NaN               9             5     25000  \n",
       "2            0.0               1            10     42000  \n",
       "3            NaN               2            68    200000  \n",
       "4          104.0               4           131    200000  "
      ]
     },
     "execution_count": 2,
     "metadata": {},
     "output_type": "execute_result"
    }
   ],
   "source": [
    "# Cargar el dataset\n",
    "file_path = 'articulos_ml.csv'\n",
    "dataset = pd.read_csv(file_path)\n",
    "\n",
    "# Visualizar las primeras filas del dataset\n",
    "dataset.head()"
   ]
  },
  {
   "cell_type": "markdown",
   "id": "09872acb",
   "metadata": {},
   "source": [
    "## Preprocesamiento de los datos"
   ]
  },
  {
   "cell_type": "code",
   "execution_count": 3,
   "id": "94e821b3",
   "metadata": {},
   "outputs": [],
   "source": [
    "# Manejar valores nulos llenando con la mediana para columnas numéricas\n",
    "dataset.fillna(dataset.median(numeric_only=True), inplace=True)\n",
    "\n",
    "# Seleccionar las características y la variable objetivo\n",
    "features = dataset[['Word count', '# of Links', '# of comments', '# Images video', 'Elapsed days']]\n",
    "target = dataset['# Shares']"
   ]
  },
  {
   "cell_type": "markdown",
   "id": "7f3460ac",
   "metadata": {},
   "source": [
    "## División de datos en entrenamiento y prueba"
   ]
  },
  {
   "cell_type": "code",
   "execution_count": 4,
   "id": "0f3ffb20",
   "metadata": {},
   "outputs": [],
   "source": [
    "# Dividir los datos\n",
    "X_train, X_test, y_train, y_test = train_test_split(features, target, test_size=0.2, random_state=42)"
   ]
  },
  {
   "cell_type": "markdown",
   "id": "0e46cf4c",
   "metadata": {},
   "source": [
    "## Entrenamiento inicial del modelo y evaluación"
   ]
  },
  {
   "cell_type": "code",
   "execution_count": 5,
   "id": "fd19b0e6",
   "metadata": {},
   "outputs": [
    {
     "name": "stdout",
     "output_type": "stream",
     "text": [
      "MSE inicial: 773392909.0160999\n",
      "R2 inicial: -1.0441491813572013\n"
     ]
    }
   ],
   "source": [
    "# Entrenar un modelo de Random Forest inicial\n",
    "model = RandomForestRegressor(random_state=42, n_estimators=100)\n",
    "model.fit(X_train, y_train)\n",
    "\n",
    "# Predicción y evaluación\n",
    "y_pred = model.predict(X_test)\n",
    "mse = mean_squared_error(y_test, y_pred)\n",
    "r2 = r2_score(y_test, y_pred)\n",
    "print(f\"MSE inicial: {mse}\")\n",
    "print(f\"R2 inicial: {r2}\")"
   ]
  },
  {
   "cell_type": "markdown",
   "id": "93af2e71",
   "metadata": {},
   "source": [
    "## Análisis de la distribución de la variable objetivo y transformación logarítmica"
   ]
  },
  {
   "cell_type": "code",
   "execution_count": 6,
   "id": "f3a02c23",
   "metadata": {},
   "outputs": [
    {
     "data": {
      "image/png": "[encoded data removed]",
      "text/plain": [
       "<Figure size 640x480 with 1 Axes>"
      ]
     },
     "metadata": {},
     "output_type": "display_data"
    }
   ],
   "source": [
    "# Visualizar la distribución de la variable objetivo\n",
    "plt.hist(target, bins=30, color='blue', edgecolor='black')\n",
    "plt.title('Distribución de # Shares')\n",
    "plt.xlabel('# Shares')\n",
    "plt.ylabel('Frecuencia')\n",
    "plt.show()\n",
    "\n",
    "# Aplicar transformación logarítmica\n",
    "target_log = np.log1p(target)"
   ]
  },
  {
   "cell_type": "markdown",
   "id": "565235bd",
   "metadata": {},
   "source": [
    "## Entrenamiento del modelo con transformación logarítmica"
   ]
  },
  {
   "cell_type": "code",
   "execution_count": 10,
   "id": "14d192cc",
   "metadata": {},
   "outputs": [
    {
     "name": "stdout",
     "output_type": "stream",
     "text": [
      "MSE con transformación: 520876775.8020774\n",
      "R2 con transformación: -0.37672562345878613\n"
     ]
    }
   ],
   "source": [
    "# Dividir datos con la variable transformada\n",
    "X_train, X_test, y_train, y_test = train_test_split(features, target_log, test_size=0.2, random_state=42)\n",
    "\n",
    "# Entrenar el modelo\n",
    "model.fit(X_train, y_train)\n",
    "y_pred_log = model.predict(X_test)\n",
    "\n",
    "# Convertir predicciones de nuevo a la escala original\n",
    "y_pred_original = np.expm1(y_pred_log)\n",
    "y_test_original = np.expm1(y_test)\n",
    "\n",
    "# Evaluar\n",
    "mse_transformed = mean_squared_error(y_test_original, y_pred_original)\n",
    "r2_transformed = r2_score(y_test_original, y_pred_original)\n",
    "print(f\"MSE con transformación: {mse_transformed}\")\n",
    "print(f\"R2 con transformación: {r2_transformed}\")"
   ]
  },
  {
   "cell_type": "markdown",
   "id": "a560c4b8",
   "metadata": {},
   "source": [
    "## Análisis de correlación y selección de características relevantes"
   ]
  },
  {
   "cell_type": "code",
   "execution_count": 12,
   "id": "db29da41",
   "metadata": {},
   "outputs": [
    {
     "data": {
      "image/png": "[encoded data removed]",
      "text/plain": [
       "<Figure size 1000x600 with 1 Axes>"
      ]
     },
     "metadata": {},
     "output_type": "display_data"
    }
   ],
   "source": [
    "# Calcular la matriz de correlación usando solo columnas numéricas\n",
    "correlation_matrix = dataset.select_dtypes(include=['number']).corr()\n",
    "\n",
    "# Visualizar correlaciones con la variable objetivo\n",
    "plt.figure(figsize=(10, 6))\n",
    "correlation_matrix['# Shares'].sort_values(ascending=False).plot(kind='bar', color='teal', edgecolor='black')\n",
    "plt.title('Correlación con # Shares')\n",
    "plt.xlabel('Características')\n",
    "plt.ylabel('Correlación')\n",
    "plt.xticks(rotation=45)\n",
    "plt.show()\n"
   ]
  },
  {
   "cell_type": "markdown",
   "id": "a5073a49",
   "metadata": {},
   "source": [
    "## Entrenamiento del modelo con características seleccionadas"
   ]
  },
  {
   "cell_type": "code",
   "execution_count": 9,
   "id": "1d054452",
   "metadata": {},
   "outputs": [
    {
     "name": "stdout",
     "output_type": "stream",
     "text": [
      "MSE con características seleccionadas: 587211969.8388923\n",
      "R2 con características seleccionadas: -0.5520556930841123\n"
     ]
    }
   ],
   "source": [
    "# Usar solo características altamente correlacionadas\n",
    "selected_features = ['Elapsed days', '# of comments', '# of Links']\n",
    "X_selected = dataset[selected_features]\n",
    "\n",
    "# Dividir datos con características seleccionadas\n",
    "X_train, X_test, y_train, y_test = train_test_split(X_selected, target_log, test_size=0.2, random_state=42)\n",
    "\n",
    "# Entrenar el modelo\n",
    "model.fit(X_train, y_train)\n",
    "y_pred_log = model.predict(X_test)\n",
    "\n",
    "# Convertir predicciones a escala original\n",
    "y_pred_original = np.expm1(y_pred_log)\n",
    "y_test_original = np.expm1(y_test)\n",
    "\n",
    "# Evaluar\n",
    "mse_selected = mean_squared_error(y_test_original, y_pred_original)\n",
    "r2_selected = r2_score(y_test_original, y_pred_original)\n",
    "print(f\"MSE con características seleccionadas: {mse_selected}\")\n",
    "print(f\"R2 con características seleccionadas: {r2_selected}\")"
   ]
  },
  {
   "cell_type": "code",
   "execution_count": 14,
   "id": "68e6b07c-f5ea-4fbe-8cb6-ce6470feed0b",
   "metadata": {},
   "outputs": [
    {
     "name": "stdout",
     "output_type": "stream",
     "text": [
      "Fitting 3 folds for each of 50 candidates, totalling 150 fits\n",
      "Mejores hiperparámetros: {'max_depth': 50, 'min_samples_leaf': 9, 'min_samples_split': 8, 'n_estimators': 373}\n",
      "Mejor R^2: -0.014103051522723212\n"
     ]
    }
   ],
   "source": [
    "from sklearn.model_selection import RandomizedSearchCV\n",
    "from scipy.stats import randint\n",
    "\n",
    "# Definir el modelo base\n",
    "model = RandomForestRegressor(random_state=42)\n",
    "\n",
    "# Definir el rango de hiperparámetros\n",
    "param_distributions = {\n",
    "    'n_estimators': randint(100, 500),  # Número de árboles\n",
    "    'max_depth': [None, 10, 20, 30, 50],\n",
    "    'min_samples_split': randint(2, 15),  # Tamaño mínimo para dividir un nodo\n",
    "    'min_samples_leaf': randint(1, 10)   # Número mínimo de muestras en una hoja\n",
    "}\n",
    "\n",
    "# Configurar la búsqueda\n",
    "random_search = RandomizedSearchCV(estimator=model, param_distributions=param_distributions, \n",
    "                                   scoring='r2', n_iter=50, cv=3, verbose=2, random_state=42, n_jobs=-1)\n",
    "\n",
    "# Ejecutar la búsqueda\n",
    "random_search.fit(X_train, y_train)\n",
    "\n",
    "# Mostrar los mejores parámetros\n",
    "print(\"Mejores hiperparámetros:\", random_search.best_params_)\n",
    "print(\"Mejor R^2:\", random_search.best_score_)\n"
   ]
  },
  {
   "cell_type": "code",
   "execution_count": 15,
   "id": "4c65f6fc-beb6-4023-8c98-8bfaeff8b405",
   "metadata": {},
   "outputs": [
    {
     "name": "stdout",
     "output_type": "stream",
     "text": [
      "Fitting 3 folds for each of 81 candidates, totalling 243 fits\n",
      "Mejores hiperparámetros: {'max_depth': 40, 'min_samples_leaf': 11, 'min_samples_split': 6, 'n_estimators': 350}\n",
      "Mejor R^2: -0.008302232039509824\n"
     ]
    }
   ],
   "source": [
    "from sklearn.model_selection import GridSearchCV\n",
    "\n",
    "# Define rangos ajustados alrededor de los mejores hiperparámetros encontrados\n",
    "param_grid = {\n",
    "    'n_estimators': [350, 373, 400],  # Explorar alrededor de 373\n",
    "    'max_depth': [40, 50, 60],        # Explorar alrededor de 50\n",
    "    'min_samples_split': [6, 8, 10],  # Explorar alrededor de 8\n",
    "    'min_samples_leaf': [7, 9, 11]    # Explorar alrededor de 9\n",
    "}\n",
    "\n",
    "# Configurar GridSearchCV\n",
    "grid_search = GridSearchCV(\n",
    "    estimator=RandomForestRegressor(random_state=42),\n",
    "    param_grid=param_grid,\n",
    "    scoring='r2',  # Puntaje basado en R^2\n",
    "    cv=3,          # Validación cruzada con 3 folds\n",
    "    verbose=2,\n",
    "    n_jobs=-1      # Usar todos los núcleos disponibles\n",
    ")\n",
    "\n",
    "# Ejecutar la búsqueda\n",
    "grid_search.fit(X_train, y_train)\n",
    "\n",
    "# Mostrar los resultados\n",
    "print(\"Mejores hiperparámetros:\", grid_search.best_params_)\n",
    "print(\"Mejor R^2:\", grid_search.best_score_)\n"
   ]
  },
  {
   "cell_type": "markdown",
   "id": "21d61425-ce07-49d6-9f7a-8e78937e0b26",
   "metadata": {},
   "source": [
    "## Gráficas Personalizadas"
   ]
  },
  {
   "cell_type": "code",
   "execution_count": 17,
   "id": "f3bf803b-bf7a-47ba-8527-e7319ef75460",
   "metadata": {},
   "outputs": [
    {
     "ename": "NotFittedError",
     "evalue": "This RandomForestRegressor instance is not fitted yet. Call 'fit' with appropriate arguments before using this estimator.",
     "output_type": "error",
     "traceback": [
      "\u001b[1;31m---------------------------------------------------------------------------\u001b[0m",
      "\u001b[1;31mNotFittedError\u001b[0m                            Traceback (most recent call last)",
      "Cell \u001b[1;32mIn[17], line 5\u001b[0m\n\u001b[0;32m      2\u001b[0m \u001b[38;5;28;01mimport\u001b[39;00m \u001b[38;5;21;01mnumpy\u001b[39;00m \u001b[38;5;28;01mas\u001b[39;00m \u001b[38;5;21;01mnp\u001b[39;00m\n\u001b[0;32m      4\u001b[0m \u001b[38;5;66;03m# Predecir valores con el modelo sin optimizar\u001b[39;00m\n\u001b[1;32m----> 5\u001b[0m y_pred_original \u001b[38;5;241m=\u001b[39m \u001b[43mmodel\u001b[49m\u001b[38;5;241;43m.\u001b[39;49m\u001b[43mpredict\u001b[49m\u001b[43m(\u001b[49m\u001b[43mX_test\u001b[49m\u001b[43m)\u001b[49m\n\u001b[0;32m      6\u001b[0m \u001b[38;5;66;03m# Predecir valores con el modelo optimizado\u001b[39;00m\n\u001b[0;32m      7\u001b[0m y_pred_optimized \u001b[38;5;241m=\u001b[39m grid_search\u001b[38;5;241m.\u001b[39mbest_estimator_\u001b[38;5;241m.\u001b[39mpredict(X_test)\n",
      "File \u001b[1;32mc:\\skul\\base\\env\\lib\\site-packages\\sklearn\\ensemble\\_forest.py:982\u001b[0m, in \u001b[0;36mForestRegressor.predict\u001b[1;34m(self, X)\u001b[0m\n\u001b[0;32m    963\u001b[0m \u001b[38;5;28;01mdef\u001b[39;00m \u001b[38;5;21mpredict\u001b[39m(\u001b[38;5;28mself\u001b[39m, X):\n\u001b[0;32m    964\u001b[0m \u001b[38;5;250m    \u001b[39m\u001b[38;5;124;03m\"\"\"\u001b[39;00m\n\u001b[0;32m    965\u001b[0m \u001b[38;5;124;03m    Predict regression target for X.\u001b[39;00m\n\u001b[0;32m    966\u001b[0m \n\u001b[1;32m   (...)\u001b[0m\n\u001b[0;32m    980\u001b[0m \u001b[38;5;124;03m        The predicted values.\u001b[39;00m\n\u001b[0;32m    981\u001b[0m \u001b[38;5;124;03m    \"\"\"\u001b[39;00m\n\u001b[1;32m--> 982\u001b[0m     \u001b[43mcheck_is_fitted\u001b[49m\u001b[43m(\u001b[49m\u001b[38;5;28;43mself\u001b[39;49m\u001b[43m)\u001b[49m\n\u001b[0;32m    983\u001b[0m     \u001b[38;5;66;03m# Check data\u001b[39;00m\n\u001b[0;32m    984\u001b[0m     X \u001b[38;5;241m=\u001b[39m \u001b[38;5;28mself\u001b[39m\u001b[38;5;241m.\u001b[39m_validate_X_predict(X)\n",
      "File \u001b[1;32mc:\\skul\\base\\env\\lib\\site-packages\\sklearn\\utils\\validation.py:1461\u001b[0m, in \u001b[0;36mcheck_is_fitted\u001b[1;34m(estimator, attributes, msg, all_or_any)\u001b[0m\n\u001b[0;32m   1458\u001b[0m     \u001b[38;5;28;01mraise\u001b[39;00m \u001b[38;5;167;01mTypeError\u001b[39;00m(\u001b[38;5;124m\"\u001b[39m\u001b[38;5;132;01m%s\u001b[39;00m\u001b[38;5;124m is not an estimator instance.\u001b[39m\u001b[38;5;124m\"\u001b[39m \u001b[38;5;241m%\u001b[39m (estimator))\n\u001b[0;32m   1460\u001b[0m \u001b[38;5;28;01mif\u001b[39;00m \u001b[38;5;129;01mnot\u001b[39;00m _is_fitted(estimator, attributes, all_or_any):\n\u001b[1;32m-> 1461\u001b[0m     \u001b[38;5;28;01mraise\u001b[39;00m NotFittedError(msg \u001b[38;5;241m%\u001b[39m {\u001b[38;5;124m\"\u001b[39m\u001b[38;5;124mname\u001b[39m\u001b[38;5;124m\"\u001b[39m: \u001b[38;5;28mtype\u001b[39m(estimator)\u001b[38;5;241m.\u001b[39m\u001b[38;5;18m__name__\u001b[39m})\n",
      "\u001b[1;31mNotFittedError\u001b[0m: This RandomForestRegressor instance is not fitted yet. Call 'fit' with appropriate arguments before using this estimator."
     ]
    }
   ],
   "source": [
    "import matplotlib.pyplot as plt\n",
    "import numpy as np\n",
    "\n",
    "# Predecir valores con el modelo sin optimizar\n",
    "y_pred_original = model.predict(X_test)\n",
    "# Predecir valores con el modelo optimizado\n",
    "y_pred_optimized = grid_search.best_estimator_.predict(X_test)\n",
    "\n",
    "# Convertir los valores a la escala original si aplicaste una transformación logarítmica\n",
    "y_test_original = np.expm1(y_test)\n",
    "y_pred_original = np.expm1(y_pred_original)\n",
    "y_pred_optimized = np.expm1(y_pred_optimized)\n",
    "\n",
    "# Gráfica 1: Predicciones vs Valores Reales\n",
    "plt.figure(figsize=(12, 6))\n",
    "plt.scatter(y_test_original, y_pred_original, alpha=0.6, label=\"Sin Optimizar\", color=\"blue\")\n",
    "plt.scatter(y_test_original, y_pred_optimized, alpha=0.6, label=\"Optimizado\", color=\"green\")\n",
    "plt.plot([min(y_test_original), max(y_test_original)], [min(y_test_original), max(y_test_original)], color=\"red\", linestyle=\"--\", label=\"Línea Ideal\")\n",
    "plt.title(\"Predicciones vs Valores Reales\")\n",
    "plt.xlabel(\"Valores Reales\")\n",
    "plt.ylabel(\"Predicciones\")\n",
    "plt.legend()\n",
    "plt.show()\n",
    "\n",
    "# Gráfica 2: Distribución de los Errores\n",
    "residuals_original = y_test_original - y_pred_original\n",
    "residuals_optimized = y_test_original - y_pred_optimized\n",
    "\n",
    "plt.figure(figsize=(12, 6))\n",
    "plt.hist(residuals_original, bins=30, alpha=0.6, label=\"Errores Sin Optimizar\", color=\"blue\", edgecolor=\"black\")\n",
    "plt.hist(residuals_optimized, bins=30, alpha=0.6, label=\"Errores Optimizado\", color=\"green\", edgecolor=\"black\")\n",
    "plt.title(\"Distribución de los Errores\")\n",
    "plt.xlabel(\"Error\")\n",
    "plt.ylabel(\"Frecuencia\")\n",
    "plt.legend()\n",
    "plt.show()\n"
   ]
  },
  {
   "cell_type": "code",
   "execution_count": null,
   "id": "d9d39173-66a9-4f98-89f4-eee32872d227",
   "metadata": {},
   "outputs": [],
   "source": []
  }
 ],
 "metadata": {
  "kernelspec": {
   "display_name": "Python 3 (ipykernel)",
   "language": "python",
   "name": "python3"
  },
  "language_info": {
   "codemirror_mode": {
    "name": "ipython",
    "version": 3
   },
   "file_extension": ".py",
   "mimetype": "text/x-python",
   "name": "python",
   "nbconvert_exporter": "python",
   "pygments_lexer": "ipython3",
   "version": "3.8.0"
  }
 },
 "nbformat": 4,
 "nbformat_minor": 5
}
